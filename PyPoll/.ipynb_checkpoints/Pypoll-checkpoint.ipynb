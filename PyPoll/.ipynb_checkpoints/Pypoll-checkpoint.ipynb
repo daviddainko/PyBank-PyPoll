{
 "cells": [
  {
   "cell_type": "code",
   "execution_count": 5,
   "metadata": {},
   "outputs": [],
   "source": [
    "import pandas as pd"
   ]
  },
  {
   "cell_type": "code",
   "execution_count": 6,
   "metadata": {},
   "outputs": [],
   "source": [
    "data_file = \"Resources/election_data.csv\"\n",
    "election_data = pd.read_csv(data_file)"
   ]
  },
  {
   "cell_type": "code",
   "execution_count": 7,
   "metadata": {},
   "outputs": [
    {
     "data": {
      "text/plain": [
       "3521001"
      ]
     },
     "execution_count": 7,
     "metadata": {},
     "output_type": "execute_result"
    }
   ],
   "source": [
    "votes = len(election_data[\"Voter ID\"])\n",
    "votes\n",
    "#The total number of votes cast"
   ]
  },
  {
   "cell_type": "code",
   "execution_count": 8,
   "metadata": {},
   "outputs": [
    {
     "data": {
      "text/plain": [
       "array(['Khan', 'Correy', 'Li', \"O'Tooley\"], dtype=object)"
      ]
     },
     "execution_count": 8,
     "metadata": {},
     "output_type": "execute_result"
    }
   ],
   "source": [
    "#A complete list of candidates who received votes\n",
    "candidates = election_data[\"Candidate\"].unique()\n",
    "candidates"
   ]
  },
  {
   "cell_type": "code",
   "execution_count": 14,
   "metadata": {},
   "outputs": [
    {
     "name": "stdout",
     "output_type": "stream",
     "text": [
      "Khan        2218231\n",
      "Correy       704200\n",
      "Li           492940\n",
      "O'Tooley     105630\n",
      "Name: Candidate, dtype: int64\n"
     ]
    }
   ],
   "source": [
    "print(election_data['Candidate'].value_counts())"
   ]
  },
  {
   "cell_type": "raw",
   "metadata": {},
   "source": [
    "#The total number of votes each candidate won\n",
    "Khan_votes = 0\n",
    "Correy_votes = 0\n",
    "Li_votes = 0\n",
    "OTooley_votes = 0\n",
    "\n",
    "number_of_votes = 3521001\n",
    "votes_counted = 0\n",
    "\n",
    "while (votes_counted <= number_of_votes):\n",
    "    for row in election_data:\n",
    "        if row[2] == \"Khan\":\n",
    "            Khan_votes += 1\n",
    "        elif row[2] == \"Correy\":\n",
    "            Correy_votes += 1\n",
    "        elif row[2] == \"Li\":\n",
    "            Li_votes += 1\n",
    "        else:\n",
    "            OTooley_votes += 1\n",
    "votes_counted += 1\n",
    "\n",
    "        \n",
    "print(Khan_votes)\n",
    "print(Correy_votes)\n",
    "print(Li_votes)\n",
    "print(OTooley_votes)"
   ]
  },
  {
   "cell_type": "code",
   "execution_count": null,
   "metadata": {},
   "outputs": [],
   "source": [
    "#The percentage of votes each candidate won\n"
   ]
  },
  {
   "cell_type": "code",
   "execution_count": null,
   "metadata": {},
   "outputs": [],
   "source": [
    "#The winner of the election based on popular vote.\n"
   ]
  }
 ],
 "metadata": {
  "kernelspec": {
   "display_name": "Python 3",
   "language": "python",
   "name": "python3"
  },
  "language_info": {
   "codemirror_mode": {
    "name": "ipython",
    "version": 3
   },
   "file_extension": ".py",
   "mimetype": "text/x-python",
   "name": "python",
   "nbconvert_exporter": "python",
   "pygments_lexer": "ipython3",
   "version": "3.7.0"
  }
 },
 "nbformat": 4,
 "nbformat_minor": 2
}
